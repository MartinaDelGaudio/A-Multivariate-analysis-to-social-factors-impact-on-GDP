{
 "cells": [
  {
   "cell_type": "markdown",
   "metadata": {},
   "source": [
    "For every social factor we were interested in, we downloaded the corresponding csv file and we manipulated the dataset to match every independent variable with the GDP corresponding to same 'Code' (name of the country) and 'Year'.\n",
    "At the end we exported the file in csv format."
   ]
  },
  {
   "cell_type": "code",
   "execution_count": null,
   "metadata": {},
   "outputs": [],
   "source": [
    "setwd(\"~/Desktop/Statistica\")\n",
    "#Data cleaning \n",
    "#We started by downloading some useful library\n",
    "library(tidyverse)\n",
    "data_gdp = read_csv(\"gdp.csv\", skip = 4)\n",
    "data_gdp = data_gdp %>%select(-\"Indicator Name\", -\"Indicator Code\")%>%rename(Country = \"Country Name\", Code = \"Country Code\")\n",
    "gdp_final = data_gdp %>% gather(key= \"Year\", value = \"gdp\", -\"Country\", -\"Code\") %>% drop_na()\n",
    "data_netmig = read_csv(\"netmigration.csv\", skip = 4)\n",
    "data_netmig= data_netmig %>% select(-\"Indicator Name\", -\"Indicator Code\")%>%rename(Country = \"Country Name\", Code = \"Country Code\")\n",
    "netmig_final = data_netmig %>% gather(key= \"Year\", value = \"netmigration\", -\"Country\", -\"Code\") %>% drop_na()\n",
    "all_data = gdp_final\n",
    "all_data = left_join(all_data,select(netmig_final, Code, Year, netmigration), by = c(\"Code\", \"Year\"))\n",
    "data_fert= read_csv(\"fertilityrate.csv\", skip =4)\n",
    "data_fert= data_fert %>% select(-\"Indicator Name\", -\"Indicator Code\")%>%rename(Country = \"Country Name\", Code = \"Country Code\")\n",
    "fert_final = data_fert %>% gather(key= \"Year\", value = \"fertilityrate\", -\"Country\", -\"Code\") %>% drop_na()\n",
    "all_data = left_join(all_data,select(fert_final, Code, Year, fertilityrate), by = c(\"Code\", \"Year\"))\n",
    "data_mortfem= read_csv(\"mortalityratefemale.csv\", skip =4)\n",
    "data_mortfem= data_mortfem %>% select(-\"Indicator Name\", -\"Indicator Code\")%>%rename(Country = \"Country Name\", Code = \"Country Code\")\n",
    "mortfem_final = data_mortfem %>% gather(key= \"Year\", value = \"mortalityratefemale\", -\"Country\", -\"Code\") %>% drop_na()\n",
    "all_data = left_join(all_data,select(mortfem_final, Code, Year, mortalityratefemale), by = c(\"Code\", \"Year\"))\n",
    "data_mortmal= read_csv(\"mortalityratemale.csv\", skip =4)\n",
    "data_mortaml= data_mortmal %>% select(-\"Indicator Name\", -\"Indicator Code\")%>%rename(Country = \"Country Name\", Code = \"Country Code\")\n",
    "mortmal_final = data_mortmal %>% gather(key= \"Year\", value = \"mortalityratemale\", -\"Country\", -\"Code\") %>% drop_na()\n",
    "all_data = left_join(all_data,select(mortmal_final, Code, Year, mortalityratemale), by = c(\"Code\", \"Year\"))\n",
    "data_unem= read_csv(\"unemployment.csv\", skip =4)\n",
    "data_unem= data_unem %>% select(-\"Indicator Name\", -\"Indicator Code\")%>%rename(Country = \"Country Name\", Code = \"Country Code\")\n",
    "unem_final = data_unem %>% gather(key= \"Year\", value = \"unemployment\", -\"Country\", -\"Code\") %>% drop_na()\n",
    "all_data = left_join(all_data,select(unem_final, Code, Year, unemployment), by = c(\"Code\", \"Year\"))\n",
    "data_primedu= read_csv(\"primaryeducation.csv\", skip =4)\n",
    "data_primedu= data_primedu %>% select(-\"Indicator Name\", -\"Indicator Code\")%>%rename(Country = \"Country Name\", Code = \"Country Code\")\n",
    "primedu_final = data_primedu %>% gather(key= \"Year\", value = \"primaryeducation\", -\"Country\", -\"Code\") %>% drop_na()\n",
    "all_data = left_join(all_data,select(primedu_final, Code, Year, primaryeducation), by = c(\"Code\", \"Year\"))\n",
    "data_secedu= read_csv(\"secondaryeducation.csv\", skip =4)\n",
    "data_secedu= data_secedu %>% select(-\"Indicator Name\", -\"Indicator Code\")%>%rename(Country = \"Country Name\", Code = \"Country Code\")\n",
    "secedu_final = data_secedu %>% gather(key= \"Year\", value = \"secondaryeducation\", -\"Country\", -\"Code\") %>% drop_na()\n",
    "all_data = left_join(all_data,select(secedu_final, Code, Year, secondaryeducation), by = c(\"Code\", \"Year\"))\n",
    "#for labour force the procedure was little different because data come from a different source\n",
    "data_labf = read_csv(\"Laborforce.csv\")\n",
    "labf_final= data_labf %>% select(-\"INDICATOR\", -\"SUBJECT\", -\"MEASURE\", -\"FREQUENCY\", -\"Flag Codes\")%>%rename(Code = \"LOCATION\", Year = \"TIME\", labourforce = \"Value\")\n",
    "labf_final$Year = as.character(labf_final$Year)\n",
    "all_data = left_join(all_data,select(labf_final, Code, Year, labourforce), by = c(\"Code\", \"Year\"))\n",
    "#We exported the file to work on it any time\n",
    "write.table(all_data, \"Researchdata.csv\")\n",
    "expdata(all_data, \"Researchdata.csv\")"
   ]
  }
 ],
 "metadata": {
  "language_info": {
   "name": "python"
  },
  "orig_nbformat": 4
 },
 "nbformat": 4,
 "nbformat_minor": 2
}
