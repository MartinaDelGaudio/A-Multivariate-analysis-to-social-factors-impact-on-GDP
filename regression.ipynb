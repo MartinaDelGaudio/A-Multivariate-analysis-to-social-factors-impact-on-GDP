{
 "cells": [
  {
   "cell_type": "markdown",
   "metadata": {},
   "source": [
    "We then opened the file and set up our pre-processed dataset removing NA values. We were interested onyl in the social variables we considered most important: \"gdp\", \"fertilityrate\", \"netmigration\", \"unemployment\", \"primaryeducation\", \"mortalityratefemale\", \"mortalityratemale\", \"labourforce\", \"grossfixedcapital\" and \"secondaryeducation\". "
   ]
  },
  {
   "cell_type": "code",
   "execution_count": null,
   "metadata": {},
   "outputs": [],
   "source": [
    "#we open our file\n",
    "raw_data = read.csv(\"Researchdata.csv\")\n",
    "View(raw_data)\n",
    "#setting up the data for regression\n",
    "df = na.omit(raw_data)\n",
    "all_variables = c(\"gdp\", \"fertilityrate\", \"netmigration\", \"unemployment\", \"primaryeducation\", \"mortalityratefemale\", \"mortalityratemale\", \"labourforce\", \"grossfixedcapital\", \"secondaryeducation\")"
   ]
  },
  {
   "cell_type": "markdown",
   "metadata": {},
   "source": [
    "Since most common production functions are the Cobb-Douglas ones, in which there is an exponential relation between GDP and capital with labor, we decided to calculate the logarithm of all variables to obtain a linear relationship. During this process we obtaines NAs values due to the presence of negative data, so we removed them.\n",
    "\n",
    "We then proceed with our first regression between GDP and capital with labor. We test the normality of the residuals and we do some plots."
   ]
  },
  {
   "cell_type": "code",
   "execution_count": null,
   "metadata": {},
   "outputs": [],
   "source": [
    "df = log(df[all_variables])\n",
    "#NAs were generated when taking the logarithm of negative data (netmigration has some negative values), so we take them out again\n",
    "df = na.omit(df)\n",
    "attach(df)\n",
    "#first regression\n",
    "regression1 = lm(gdp ~ grossfixedcapital+labourforce)\n",
    "summary(regression1)\n",
    "#testing normality of residuals\n",
    "library(olsrr)\n",
    "ols_plot_resid_fit(regression1)\n",
    "ols_plot_resid_qq(regression1)\n",
    "ols_test_normality(regression1)\n",
    "#generate added variable plots\n",
    "library(car)\n",
    "avPlots(regression1)"
   ]
  },
  {
   "cell_type": "markdown",
   "metadata": {},
   "source": [
    "We conclude our work with the second regression. We test for potential outliers, we perform a model selection and in the final step we remove the less significant variables to obtain a more precise model"
   ]
  },
  {
   "cell_type": "code",
   "execution_count": null,
   "metadata": {},
   "outputs": [],
   "source": [
    "#second regression\n",
    "regression2 = lm(gdp ~ fertilityrate+netmigration+unemployment+primaryeducation+mortalityratefemale+mortalityratemale+secondaryeducation)\n",
    "summary(regression2)\n",
    "#testing for potential outliers and testing normality of residuals\n",
    "boxplot(df[\"gdp\"], xlab=\"gdp\")\n",
    "plot(regression2)\n",
    "hist(residuals(regression2), main=\"Residuals histogram\", xlab=\"residuals\")\n",
    "ols_test_normality(regression2)\n",
    "#generate added variable plots\n",
    "avPlots(regression2)\n",
    "#model selection, step methods\n",
    "ols_step_forward_p(regression2)\n",
    "ols_step_backward(regression2)\n",
    "ols_step_both_p(regression2)\n",
    "#model selection, cross selection\n",
    "ols_step_best_subset(regression2)\n",
    "#third regression\n",
    "regression3 = lm(gdp ~ netmigration + secondaryeducation + unemployment + mortalityratemale)\n",
    "summary(regression3)"
   ]
  }
 ],
 "metadata": {
  "language_info": {
   "name": "python"
  },
  "orig_nbformat": 4
 },
 "nbformat": 4,
 "nbformat_minor": 2
}
